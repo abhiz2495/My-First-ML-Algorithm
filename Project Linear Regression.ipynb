{
 "cells": [
  {
   "cell_type": "markdown",
   "id": "0d0bc9e6",
   "metadata": {},
   "source": [
    "# Machine Learning: ML \n",
    "\n",
    "To make a machine learn through algorithms.\n",
    "\n",
    "Algorithms are built over statistics and medium between machine to learn over data is algorithms\n",
    "\n",
    "Works only on Structured Data"
   ]
  },
  {
   "cell_type": "code",
   "execution_count": null,
   "id": "bd84a300",
   "metadata": {},
   "outputs": [],
   "source": [
    "#Types of ML:\n",
    "\n",
    "#supervised:\n",
    "      #Regression\n",
    "      #Classification\n",
    "#unsupervised\n",
    "#reinforced"
   ]
  },
  {
   "cell_type": "code",
   "execution_count": null,
   "id": "1c83aa79",
   "metadata": {},
   "outputs": [],
   "source": [
    "#supervised (Total 6)\n",
    "\n",
    "  #Regression:\n",
    "    1. Linear Regression\n",
    "    2. Decision Tree Regressor\n",
    "  #Classification:\n",
    "    1. Logistic Regression\n",
    "    2. KNN\n",
    "    3. SVM\n",
    "    4. Decision Tree Classifier"
   ]
  },
  {
   "cell_type": "code",
   "execution_count": null,
   "id": "e9f0da03",
   "metadata": {},
   "outputs": [],
   "source": [
    "#Unsupervisised (Total 2)\n",
    "    1. K-Means Clustering\n",
    "    2. Herarical Clustering\n",
    "    3. Market Basket Analysis(MBA)"
   ]
  },
  {
   "cell_type": "code",
   "execution_count": null,
   "id": "abf1ebce",
   "metadata": {},
   "outputs": [],
   "source": [
    "# reinforcment Machine Learning (Total 2)\n",
    "    1. exponential Smoothing(single, holt, holt-winter)\n",
    "    2. ARIMA(Arithmetic Integrated Moving Average)"
   ]
  },
  {
   "cell_type": "code",
   "execution_count": null,
   "id": "c109ce4f",
   "metadata": {},
   "outputs": [],
   "source": [
    "#Tuning of ML algorithm - enhancing the performance of exisiting ML algortihm"
   ]
  },
  {
   "cell_type": "code",
   "execution_count": 18,
   "id": "70d01208",
   "metadata": {},
   "outputs": [],
   "source": [
    "import pandas as pd\n",
    "import matplotlib.pyplot as plt\n",
    "import seaborn as sns"
   ]
  },
  {
   "cell_type": "code",
   "execution_count": 4,
   "id": "93258ce6",
   "metadata": {},
   "outputs": [],
   "source": [
    "data = pd.read_csv(\"Advertising.csv\",index_col=0)"
   ]
  },
  {
   "cell_type": "code",
   "execution_count": 5,
   "id": "8e03cb80",
   "metadata": {},
   "outputs": [
    {
     "data": {
      "text/html": [
       "<div>\n",
       "<style scoped>\n",
       "    .dataframe tbody tr th:only-of-type {\n",
       "        vertical-align: middle;\n",
       "    }\n",
       "\n",
       "    .dataframe tbody tr th {\n",
       "        vertical-align: top;\n",
       "    }\n",
       "\n",
       "    .dataframe thead th {\n",
       "        text-align: right;\n",
       "    }\n",
       "</style>\n",
       "<table border=\"1\" class=\"dataframe\">\n",
       "  <thead>\n",
       "    <tr style=\"text-align: right;\">\n",
       "      <th></th>\n",
       "      <th>TV</th>\n",
       "      <th>radio</th>\n",
       "      <th>newspaper</th>\n",
       "      <th>sales</th>\n",
       "    </tr>\n",
       "  </thead>\n",
       "  <tbody>\n",
       "    <tr>\n",
       "      <th>1</th>\n",
       "      <td>230.1</td>\n",
       "      <td>37.8</td>\n",
       "      <td>69.2</td>\n",
       "      <td>22.1</td>\n",
       "    </tr>\n",
       "    <tr>\n",
       "      <th>2</th>\n",
       "      <td>44.5</td>\n",
       "      <td>39.3</td>\n",
       "      <td>45.1</td>\n",
       "      <td>10.4</td>\n",
       "    </tr>\n",
       "    <tr>\n",
       "      <th>3</th>\n",
       "      <td>17.2</td>\n",
       "      <td>45.9</td>\n",
       "      <td>69.3</td>\n",
       "      <td>9.3</td>\n",
       "    </tr>\n",
       "    <tr>\n",
       "      <th>4</th>\n",
       "      <td>151.5</td>\n",
       "      <td>41.3</td>\n",
       "      <td>58.5</td>\n",
       "      <td>18.5</td>\n",
       "    </tr>\n",
       "    <tr>\n",
       "      <th>5</th>\n",
       "      <td>180.8</td>\n",
       "      <td>10.8</td>\n",
       "      <td>58.4</td>\n",
       "      <td>12.9</td>\n",
       "    </tr>\n",
       "  </tbody>\n",
       "</table>\n",
       "</div>"
      ],
      "text/plain": [
       "      TV  radio  newspaper  sales\n",
       "1  230.1   37.8       69.2   22.1\n",
       "2   44.5   39.3       45.1   10.4\n",
       "3   17.2   45.9       69.3    9.3\n",
       "4  151.5   41.3       58.5   18.5\n",
       "5  180.8   10.8       58.4   12.9"
      ]
     },
     "execution_count": 5,
     "metadata": {},
     "output_type": "execute_result"
    }
   ],
   "source": [
    "data.head()"
   ]
  },
  {
   "cell_type": "code",
   "execution_count": 6,
   "id": "175ef662",
   "metadata": {},
   "outputs": [],
   "source": [
    "x=data[\"TV\"]\n",
    "y=data[\"sales\"]"
   ]
  },
  {
   "cell_type": "code",
   "execution_count": 11,
   "id": "ba637640",
   "metadata": {},
   "outputs": [
    {
     "data": {
      "text/plain": [
       "Text(0.5, 1.0, 'Sales vs TV Advertising')"
      ]
     },
     "execution_count": 11,
     "metadata": {},
     "output_type": "execute_result"
    },
    {
     "data": {
      "image/png": "[encoded data removed]",
      "text/plain": [
       "<Figure size 640x480 with 1 Axes>"
      ]
     },
     "metadata": {},
     "output_type": "display_data"
    }
   ],
   "source": [
    "plt.scatter(x,y)\n",
    "plt.xlabel(\"TV\")\n",
    "plt.ylabel(\"Sales\")\n",
    "plt.title(\"Sales vs TV Advertising\")"
   ]
  },
  {
   "cell_type": "code",
   "execution_count": 12,
   "id": "27d3798a",
   "metadata": {},
   "outputs": [],
   "source": [
    "a=data[\"radio\"]\n",
    "b=data[\"sales\"]"
   ]
  },
  {
   "cell_type": "code",
   "execution_count": 14,
   "id": "48f3405d",
   "metadata": {},
   "outputs": [
    {
     "data": {
      "text/plain": [
       "Text(0.5, 1.0, 'Sales vs Radio Advertising')"
      ]
     },
     "execution_count": 14,
     "metadata": {},
     "output_type": "execute_result"
    },
    {
     "data": {
      "image/png": "[encoded data removed]",
      "text/plain": [
       "<Figure size 640x480 with 1 Axes>"
      ]
     },
     "metadata": {},
     "output_type": "display_data"
    }
   ],
   "source": [
    "plt.scatter(a,b)\n",
    "plt.xlabel(\"Radio\")\n",
    "plt.ylabel(\"Sales\")\n",
    "plt.title(\"Sales vs Radio Advertising\")"
   ]
  },
  {
   "cell_type": "code",
   "execution_count": 15,
   "id": "379c38b1",
   "metadata": {},
   "outputs": [],
   "source": [
    "c=data[\"newspaper\"]\n",
    "d=data[\"sales\"]"
   ]
  },
  {
   "cell_type": "code",
   "execution_count": 16,
   "id": "62007d4a",
   "metadata": {},
   "outputs": [
    {
     "data": {
      "text/plain": [
       "Text(0.5, 1.0, 'Sales vs Newspaper Advertising')"
      ]
     },
     "execution_count": 16,
     "metadata": {},
     "output_type": "execute_result"
    },
    {
     "data": {
      "image/png": "[encoded data removed]",
      "text/plain": [
       "<Figure size 640x480 with 1 Axes>"
      ]
     },
     "metadata": {},
     "output_type": "display_data"
    }
   ],
   "source": [
    "plt.scatter(c,d)\n",
    "plt.xlabel(\"Newspaper\")\n",
    "plt.ylabel(\"Sales\")\n",
    "plt.title(\"Sales vs Newspaper Advertising\")"
   ]
  },
  {
   "cell_type": "code",
   "execution_count": 19,
   "id": "b4eb49ff",
   "metadata": {},
   "outputs": [
    {
     "data": {
      "text/plain": [
       "<Axes: >"
      ]
     },
     "execution_count": 19,
     "metadata": {},
     "output_type": "execute_result"
    },
    {
     "data": {
      "image/png": "[encoded data removed]",
      "text/plain": [
       "<Figure size 640x480 with 2 Axes>"
      ]
     },
     "metadata": {},
     "output_type": "display_data"
    }
   ],
   "source": [
    "sns.heatmap(data.corr(),annot=True)"
   ]
  },
  {
   "cell_type": "code",
   "execution_count": 20,
   "id": "28778d92",
   "metadata": {},
   "outputs": [
    {
     "data": {
      "text/plain": [
       "TV           0\n",
       "radio        0\n",
       "newspaper    0\n",
       "sales        0\n",
       "dtype: int64"
      ]
     },
     "execution_count": 20,
     "metadata": {},
     "output_type": "execute_result"
    }
   ],
   "source": [
    "data.isnull().sum()"
   ]
  },
  {
   "cell_type": "code",
   "execution_count": 22,
   "id": "283013da",
   "metadata": {},
   "outputs": [
    {
     "data": {
      "text/plain": [
       "{'whiskers': [<matplotlib.lines.Line2D at 0x27f5cd79910>,\n",
       "  <matplotlib.lines.Line2D at 0x27f5cdbe050>],\n",
       " 'caps': [<matplotlib.lines.Line2D at 0x27f5cdbe7d0>,\n",
       "  <matplotlib.lines.Line2D at 0x27f5cdbf110>],\n",
       " 'boxes': [<matplotlib.lines.Line2D at 0x27f584450d0>],\n",
       " 'medians': [<matplotlib.lines.Line2D at 0x27f5cdbfa90>],\n",
       " 'fliers': [<matplotlib.lines.Line2D at 0x27f5cdd02d0>],\n",
       " 'means': []}"
      ]
     },
     "execution_count": 22,
     "metadata": {},
     "output_type": "execute_result"
    },
    {
     "data": {
      "image/png": "[encoded data removed]",
      "text/plain": [
       "<Figure size 640x480 with 1 Axes>"
      ]
     },
     "metadata": {},
     "output_type": "display_data"
    }
   ],
   "source": [
    "plt.boxplot(data[\"TV\"])"
   ]
  },
  {
   "cell_type": "code",
   "execution_count": 23,
   "id": "11ee7ae0",
   "metadata": {},
   "outputs": [
    {
     "data": {
      "text/plain": [
       "{'whiskers': [<matplotlib.lines.Line2D at 0x27f5ce19dd0>,\n",
       "  <matplotlib.lines.Line2D at 0x27f5ce1a810>],\n",
       " 'caps': [<matplotlib.lines.Line2D at 0x27f5ce1b110>,\n",
       "  <matplotlib.lines.Line2D at 0x27f5ce0dfd0>],\n",
       " 'boxes': [<matplotlib.lines.Line2D at 0x27f5ce194d0>],\n",
       " 'medians': [<matplotlib.lines.Line2D at 0x27f5ce1bf90>],\n",
       " 'fliers': [<matplotlib.lines.Line2D at 0x27f5ce24890>],\n",
       " 'means': []}"
      ]
     },
     "execution_count": 23,
     "metadata": {},
     "output_type": "execute_result"
    },
    {
     "data": {
      "image/png": "[encoded data removed]",
      "text/plain": [
       "<Figure size 640x480 with 1 Axes>"
      ]
     },
     "metadata": {},
     "output_type": "display_data"
    }
   ],
   "source": [
    "plt.boxplot(data[\"newspaper\"])"
   ]
  },
  {
   "cell_type": "code",
   "execution_count": null,
   "id": "80adae31",
   "metadata": {},
   "outputs": [],
   "source": [
    "#Data pre-processing\n",
    "\n",
    "#null values\n",
    "#co-relation\n",
    "#outliers\n",
    "#categorical variables converted to numerical values"
   ]
  },
  {
   "cell_type": "code",
   "execution_count": 24,
   "id": "6b0b8795",
   "metadata": {},
   "outputs": [
    {
     "data": {
      "text/plain": [
       "{'whiskers': [<matplotlib.lines.Line2D at 0x27f5ce79c10>,\n",
       "  <matplotlib.lines.Line2D at 0x27f5ce7a6d0>],\n",
       " 'caps': [<matplotlib.lines.Line2D at 0x27f5ce7b0d0>,\n",
       "  <matplotlib.lines.Line2D at 0x27f5ce7b9d0>],\n",
       " 'boxes': [<matplotlib.lines.Line2D at 0x27f5ce792d0>],\n",
       " 'medians': [<matplotlib.lines.Line2D at 0x27f5ce842d0>],\n",
       " 'fliers': [<matplotlib.lines.Line2D at 0x27f5cdbcb10>],\n",
       " 'means': []}"
      ]
     },
     "execution_count": 24,
     "metadata": {},
     "output_type": "execute_result"
    },
    {
     "data": {
      "image/png": "[encoded data removed]",
      "text/plain": [
       "<Figure size 640x480 with 1 Axes>"
      ]
     },
     "metadata": {},
     "output_type": "display_data"
    }
   ],
   "source": [
    "plt.boxplot(data[\"radio\"])"
   ]
  },
  {
   "cell_type": "code",
   "execution_count": null,
   "id": "34a8c3e2",
   "metadata": {},
   "outputs": [],
   "source": [
    "#Training - Testing Ratio:\n",
    " 1. 70:30 %\n",
    " 2. 80:20 %"
   ]
  },
  {
   "cell_type": "markdown",
   "id": "9e454d0d",
   "metadata": {},
   "source": [
    "# Linera Regression Formula : y=b0 + b1x1"
   ]
  },
  {
   "cell_type": "code",
   "execution_count": null,
   "id": "47109e08",
   "metadata": {},
   "outputs": [],
   "source": [
    "b0 - value of y when x = 0\n",
    "b1 - "
   ]
  },
  {
   "cell_type": "code",
   "execution_count": 25,
   "id": "00464499",
   "metadata": {},
   "outputs": [],
   "source": [
    "x=data[[\"TV\",\"radio\",\"newspaper\"]]\n",
    "y=data[[\"sales\"]]"
   ]
  },
  {
   "cell_type": "code",
   "execution_count": 26,
   "id": "299b215d",
   "metadata": {},
   "outputs": [
    {
     "data": {
      "text/html": [
       "<div>\n",
       "<style scoped>\n",
       "    .dataframe tbody tr th:only-of-type {\n",
       "        vertical-align: middle;\n",
       "    }\n",
       "\n",
       "    .dataframe tbody tr th {\n",
       "        vertical-align: top;\n",
       "    }\n",
       "\n",
       "    .dataframe thead th {\n",
       "        text-align: right;\n",
       "    }\n",
       "</style>\n",
       "<table border=\"1\" class=\"dataframe\">\n",
       "  <thead>\n",
       "    <tr style=\"text-align: right;\">\n",
       "      <th></th>\n",
       "      <th>TV</th>\n",
       "      <th>radio</th>\n",
       "      <th>newspaper</th>\n",
       "    </tr>\n",
       "  </thead>\n",
       "  <tbody>\n",
       "    <tr>\n",
       "      <th>1</th>\n",
       "      <td>230.1</td>\n",
       "      <td>37.8</td>\n",
       "      <td>69.2</td>\n",
       "    </tr>\n",
       "    <tr>\n",
       "      <th>2</th>\n",
       "      <td>44.5</td>\n",
       "      <td>39.3</td>\n",
       "      <td>45.1</td>\n",
       "    </tr>\n",
       "    <tr>\n",
       "      <th>3</th>\n",
       "      <td>17.2</td>\n",
       "      <td>45.9</td>\n",
       "      <td>69.3</td>\n",
       "    </tr>\n",
       "    <tr>\n",
       "      <th>4</th>\n",
       "      <td>151.5</td>\n",
       "      <td>41.3</td>\n",
       "      <td>58.5</td>\n",
       "    </tr>\n",
       "    <tr>\n",
       "      <th>5</th>\n",
       "      <td>180.8</td>\n",
       "      <td>10.8</td>\n",
       "      <td>58.4</td>\n",
       "    </tr>\n",
       "    <tr>\n",
       "      <th>...</th>\n",
       "      <td>...</td>\n",
       "      <td>...</td>\n",
       "      <td>...</td>\n",
       "    </tr>\n",
       "    <tr>\n",
       "      <th>196</th>\n",
       "      <td>38.2</td>\n",
       "      <td>3.7</td>\n",
       "      <td>13.8</td>\n",
       "    </tr>\n",
       "    <tr>\n",
       "      <th>197</th>\n",
       "      <td>94.2</td>\n",
       "      <td>4.9</td>\n",
       "      <td>8.1</td>\n",
       "    </tr>\n",
       "    <tr>\n",
       "      <th>198</th>\n",
       "      <td>177.0</td>\n",
       "      <td>9.3</td>\n",
       "      <td>6.4</td>\n",
       "    </tr>\n",
       "    <tr>\n",
       "      <th>199</th>\n",
       "      <td>283.6</td>\n",
       "      <td>42.0</td>\n",
       "      <td>66.2</td>\n",
       "    </tr>\n",
       "    <tr>\n",
       "      <th>200</th>\n",
       "      <td>232.1</td>\n",
       "      <td>8.6</td>\n",
       "      <td>8.7</td>\n",
       "    </tr>\n",
       "  </tbody>\n",
       "</table>\n",
       "<p>200 rows × 3 columns</p>\n",
       "</div>"
      ],
      "text/plain": [
       "        TV  radio  newspaper\n",
       "1    230.1   37.8       69.2\n",
       "2     44.5   39.3       45.1\n",
       "3     17.2   45.9       69.3\n",
       "4    151.5   41.3       58.5\n",
       "5    180.8   10.8       58.4\n",
       "..     ...    ...        ...\n",
       "196   38.2    3.7       13.8\n",
       "197   94.2    4.9        8.1\n",
       "198  177.0    9.3        6.4\n",
       "199  283.6   42.0       66.2\n",
       "200  232.1    8.6        8.7\n",
       "\n",
       "[200 rows x 3 columns]"
      ]
     },
     "execution_count": 26,
     "metadata": {},
     "output_type": "execute_result"
    }
   ],
   "source": [
    "x"
   ]
  },
  {
   "cell_type": "code",
   "execution_count": 27,
   "id": "0b6bce88",
   "metadata": {},
   "outputs": [
    {
     "data": {
      "text/html": [
       "<div>\n",
       "<style scoped>\n",
       "    .dataframe tbody tr th:only-of-type {\n",
       "        vertical-align: middle;\n",
       "    }\n",
       "\n",
       "    .dataframe tbody tr th {\n",
       "        vertical-align: top;\n",
       "    }\n",
       "\n",
       "    .dataframe thead th {\n",
       "        text-align: right;\n",
       "    }\n",
       "</style>\n",
       "<table border=\"1\" class=\"dataframe\">\n",
       "  <thead>\n",
       "    <tr style=\"text-align: right;\">\n",
       "      <th></th>\n",
       "      <th>sales</th>\n",
       "    </tr>\n",
       "  </thead>\n",
       "  <tbody>\n",
       "    <tr>\n",
       "      <th>1</th>\n",
       "      <td>22.1</td>\n",
       "    </tr>\n",
       "    <tr>\n",
       "      <th>2</th>\n",
       "      <td>10.4</td>\n",
       "    </tr>\n",
       "    <tr>\n",
       "      <th>3</th>\n",
       "      <td>9.3</td>\n",
       "    </tr>\n",
       "    <tr>\n",
       "      <th>4</th>\n",
       "      <td>18.5</td>\n",
       "    </tr>\n",
       "    <tr>\n",
       "      <th>5</th>\n",
       "      <td>12.9</td>\n",
       "    </tr>\n",
       "    <tr>\n",
       "      <th>...</th>\n",
       "      <td>...</td>\n",
       "    </tr>\n",
       "    <tr>\n",
       "      <th>196</th>\n",
       "      <td>7.6</td>\n",
       "    </tr>\n",
       "    <tr>\n",
       "      <th>197</th>\n",
       "      <td>9.7</td>\n",
       "    </tr>\n",
       "    <tr>\n",
       "      <th>198</th>\n",
       "      <td>12.8</td>\n",
       "    </tr>\n",
       "    <tr>\n",
       "      <th>199</th>\n",
       "      <td>25.5</td>\n",
       "    </tr>\n",
       "    <tr>\n",
       "      <th>200</th>\n",
       "      <td>13.4</td>\n",
       "    </tr>\n",
       "  </tbody>\n",
       "</table>\n",
       "<p>200 rows × 1 columns</p>\n",
       "</div>"
      ],
      "text/plain": [
       "     sales\n",
       "1     22.1\n",
       "2     10.4\n",
       "3      9.3\n",
       "4     18.5\n",
       "5     12.9\n",
       "..     ...\n",
       "196    7.6\n",
       "197    9.7\n",
       "198   12.8\n",
       "199   25.5\n",
       "200   13.4\n",
       "\n",
       "[200 rows x 1 columns]"
      ]
     },
     "execution_count": 27,
     "metadata": {},
     "output_type": "execute_result"
    }
   ],
   "source": [
    "y"
   ]
  },
  {
   "cell_type": "code",
   "execution_count": 28,
   "id": "bd10a6f8",
   "metadata": {},
   "outputs": [],
   "source": [
    "import sklearn"
   ]
  },
  {
   "cell_type": "code",
   "execution_count": 32,
   "id": "f8d5022f",
   "metadata": {},
   "outputs": [
    {
     "name": "stdout",
     "output_type": "stream",
     "text": [
      "shape of x (200, 3)\n",
      "shape of y (200, 1)\n"
     ]
    }
   ],
   "source": [
    "print(\"shape of x\",x.shape)\n",
    "print(\"shape of y\",y.shape)"
   ]
  },
  {
   "cell_type": "code",
   "execution_count": 29,
   "id": "57590e64",
   "metadata": {},
   "outputs": [],
   "source": [
    "from sklearn.model_selection import train_test_split"
   ]
  },
  {
   "cell_type": "code",
   "execution_count": 30,
   "id": "285c2c73",
   "metadata": {},
   "outputs": [],
   "source": [
    "x_train,x_test,y_train,y_test = train_test_split(x,y,test_size=0.20)"
   ]
  },
  {
   "cell_type": "code",
   "execution_count": 33,
   "id": "82876f80",
   "metadata": {},
   "outputs": [
    {
     "name": "stdout",
     "output_type": "stream",
     "text": [
      "the shape of x-train (160, 3)\n",
      "the shape of x-test (40, 3)\n",
      "the shape of y-train (160, 1)\n",
      "the shape of y-test (40, 1)\n"
     ]
    }
   ],
   "source": [
    "print(\"the shape of x-train\",x_train.shape)\n",
    "print(\"the shape of x-test\",x_test.shape)\n",
    "print(\"the shape of y-train\",y_train.shape)\n",
    "print(\"the shape of y-test\",y_test.shape)"
   ]
  },
  {
   "cell_type": "code",
   "execution_count": 35,
   "id": "2f47fb20",
   "metadata": {},
   "outputs": [],
   "source": [
    "from sklearn.linear_model import LinearRegression"
   ]
  },
  {
   "cell_type": "code",
   "execution_count": 36,
   "id": "728fe72b",
   "metadata": {},
   "outputs": [],
   "source": [
    "lm = LinearRegression()"
   ]
  },
  {
   "cell_type": "code",
   "execution_count": 37,
   "id": "c7d07cc3",
   "metadata": {},
   "outputs": [],
   "source": [
    "model = lm.fit(x_train,y_train)"
   ]
  },
  {
   "cell_type": "code",
   "execution_count": 38,
   "id": "e50fc249",
   "metadata": {},
   "outputs": [
    {
     "name": "stdout",
     "output_type": "stream",
     "text": [
      "[[ 0.04516828  0.19294335 -0.00100258]]\n"
     ]
    }
   ],
   "source": [
    "print(lm.coef_)"
   ]
  },
  {
   "cell_type": "code",
   "execution_count": 39,
   "id": "cd9c531a",
   "metadata": {},
   "outputs": [
    {
     "name": "stdout",
     "output_type": "stream",
     "text": [
      "[3.03184684]\n"
     ]
    }
   ],
   "source": [
    "print(lm.intercept_)"
   ]
  },
  {
   "cell_type": "code",
   "execution_count": 40,
   "id": "aba7c9cc",
   "metadata": {},
   "outputs": [],
   "source": [
    "# y = b0+b1x1+b2x2+b3x3"
   ]
  },
  {
   "cell_type": "code",
   "execution_count": 41,
   "id": "1ed6f1b6",
   "metadata": {},
   "outputs": [],
   "source": [
    "bzero = 3.03184684"
   ]
  },
  {
   "cell_type": "code",
   "execution_count": 42,
   "id": "68a719ef",
   "metadata": {},
   "outputs": [],
   "source": [
    "bone = 0.04516828"
   ]
  },
  {
   "cell_type": "code",
   "execution_count": 43,
   "id": "b15a7bd6",
   "metadata": {},
   "outputs": [],
   "source": [
    "btwo = 0.19294335"
   ]
  },
  {
   "cell_type": "code",
   "execution_count": 44,
   "id": "540ee290",
   "metadata": {},
   "outputs": [],
   "source": [
    "bthree = -0.00100258"
   ]
  },
  {
   "cell_type": "code",
   "execution_count": 45,
   "id": "d4b9b10b",
   "metadata": {},
   "outputs": [],
   "source": [
    "y = bzero + bone*228 + btwo*37.7 + bthree*32"
   ]
  },
  {
   "cell_type": "code",
   "execution_count": 46,
   "id": "03d2a354",
   "metadata": {},
   "outputs": [
    {
     "data": {
      "text/plain": [
       "20.572096415"
      ]
     },
     "execution_count": 46,
     "metadata": {},
     "output_type": "execute_result"
    }
   ],
   "source": [
    "y"
   ]
  },
  {
   "cell_type": "code",
   "execution_count": null,
   "id": "6d41409a",
   "metadata": {},
   "outputs": [],
   "source": [
    "# difference between actual value abd predicted value is called error"
   ]
  },
  {
   "cell_type": "code",
   "execution_count": 47,
   "id": "a95b89a9",
   "metadata": {},
   "outputs": [],
   "source": [
    "y_pred = lm.predict(x_test)"
   ]
  },
  {
   "cell_type": "code",
   "execution_count": 48,
   "id": "e15a293b",
   "metadata": {},
   "outputs": [
    {
     "data": {
      "text/html": [
       "<div>\n",
       "<style scoped>\n",
       "    .dataframe tbody tr th:only-of-type {\n",
       "        vertical-align: middle;\n",
       "    }\n",
       "\n",
       "    .dataframe tbody tr th {\n",
       "        vertical-align: top;\n",
       "    }\n",
       "\n",
       "    .dataframe thead th {\n",
       "        text-align: right;\n",
       "    }\n",
       "</style>\n",
       "<table border=\"1\" class=\"dataframe\">\n",
       "  <thead>\n",
       "    <tr style=\"text-align: right;\">\n",
       "      <th></th>\n",
       "      <th>TV</th>\n",
       "      <th>radio</th>\n",
       "      <th>newspaper</th>\n",
       "      <th>actual sales</th>\n",
       "      <th>predicted sales</th>\n",
       "    </tr>\n",
       "  </thead>\n",
       "  <tbody>\n",
       "    <tr>\n",
       "      <th>184</th>\n",
       "      <td>287.6</td>\n",
       "      <td>43.0</td>\n",
       "      <td>71.8</td>\n",
       "      <td>26.2</td>\n",
       "      <td>24.246822</td>\n",
       "    </tr>\n",
       "    <tr>\n",
       "      <th>165</th>\n",
       "      <td>117.2</td>\n",
       "      <td>14.7</td>\n",
       "      <td>5.4</td>\n",
       "      <td>11.9</td>\n",
       "      <td>11.156422</td>\n",
       "    </tr>\n",
       "    <tr>\n",
       "      <th>145</th>\n",
       "      <td>96.2</td>\n",
       "      <td>14.8</td>\n",
       "      <td>38.9</td>\n",
       "      <td>11.4</td>\n",
       "      <td>10.193596</td>\n",
       "    </tr>\n",
       "    <tr>\n",
       "      <th>21</th>\n",
       "      <td>218.4</td>\n",
       "      <td>27.7</td>\n",
       "      <td>53.4</td>\n",
       "      <td>18.0</td>\n",
       "      <td>18.187592</td>\n",
       "    </tr>\n",
       "    <tr>\n",
       "      <th>30</th>\n",
       "      <td>70.6</td>\n",
       "      <td>16.0</td>\n",
       "      <td>40.8</td>\n",
       "      <td>10.5</td>\n",
       "      <td>9.266916</td>\n",
       "    </tr>\n",
       "    <tr>\n",
       "      <th>121</th>\n",
       "      <td>141.3</td>\n",
       "      <td>26.8</td>\n",
       "      <td>46.2</td>\n",
       "      <td>15.5</td>\n",
       "      <td>14.538687</td>\n",
       "    </tr>\n",
       "    <tr>\n",
       "      <th>12</th>\n",
       "      <td>214.7</td>\n",
       "      <td>24.0</td>\n",
       "      <td>4.0</td>\n",
       "      <td>17.4</td>\n",
       "      <td>17.356106</td>\n",
       "    </tr>\n",
       "    <tr>\n",
       "      <th>39</th>\n",
       "      <td>43.1</td>\n",
       "      <td>26.7</td>\n",
       "      <td>35.1</td>\n",
       "      <td>10.1</td>\n",
       "      <td>10.094996</td>\n",
       "    </tr>\n",
       "    <tr>\n",
       "      <th>3</th>\n",
       "      <td>17.2</td>\n",
       "      <td>45.9</td>\n",
       "      <td>69.3</td>\n",
       "      <td>9.3</td>\n",
       "      <td>12.595362</td>\n",
       "    </tr>\n",
       "    <tr>\n",
       "      <th>34</th>\n",
       "      <td>265.6</td>\n",
       "      <td>20.0</td>\n",
       "      <td>0.3</td>\n",
       "      <td>17.4</td>\n",
       "      <td>18.887108</td>\n",
       "    </tr>\n",
       "    <tr>\n",
       "      <th>157</th>\n",
       "      <td>93.9</td>\n",
       "      <td>43.5</td>\n",
       "      <td>50.5</td>\n",
       "      <td>15.3</td>\n",
       "      <td>15.615553</td>\n",
       "    </tr>\n",
       "    <tr>\n",
       "      <th>35</th>\n",
       "      <td>95.7</td>\n",
       "      <td>1.4</td>\n",
       "      <td>7.4</td>\n",
       "      <td>9.5</td>\n",
       "      <td>7.617153</td>\n",
       "    </tr>\n",
       "    <tr>\n",
       "      <th>17</th>\n",
       "      <td>67.8</td>\n",
       "      <td>36.6</td>\n",
       "      <td>114.0</td>\n",
       "      <td>12.5</td>\n",
       "      <td>13.041688</td>\n",
       "    </tr>\n",
       "    <tr>\n",
       "      <th>135</th>\n",
       "      <td>36.9</td>\n",
       "      <td>38.6</td>\n",
       "      <td>65.6</td>\n",
       "      <td>10.8</td>\n",
       "      <td>12.080400</td>\n",
       "    </tr>\n",
       "    <tr>\n",
       "      <th>132</th>\n",
       "      <td>265.2</td>\n",
       "      <td>2.9</td>\n",
       "      <td>43.0</td>\n",
       "      <td>12.7</td>\n",
       "      <td>15.526899</td>\n",
       "    </tr>\n",
       "    <tr>\n",
       "      <th>194</th>\n",
       "      <td>166.8</td>\n",
       "      <td>42.0</td>\n",
       "      <td>3.6</td>\n",
       "      <td>19.6</td>\n",
       "      <td>18.665927</td>\n",
       "    </tr>\n",
       "    <tr>\n",
       "      <th>97</th>\n",
       "      <td>197.6</td>\n",
       "      <td>3.5</td>\n",
       "      <td>5.9</td>\n",
       "      <td>11.7</td>\n",
       "      <td>12.626485</td>\n",
       "    </tr>\n",
       "    <tr>\n",
       "      <th>8</th>\n",
       "      <td>120.2</td>\n",
       "      <td>19.6</td>\n",
       "      <td>11.6</td>\n",
       "      <td>13.2</td>\n",
       "      <td>12.231134</td>\n",
       "    </tr>\n",
       "    <tr>\n",
       "      <th>175</th>\n",
       "      <td>222.4</td>\n",
       "      <td>3.4</td>\n",
       "      <td>13.1</td>\n",
       "      <td>11.5</td>\n",
       "      <td>13.720146</td>\n",
       "    </tr>\n",
       "    <tr>\n",
       "      <th>134</th>\n",
       "      <td>219.8</td>\n",
       "      <td>33.5</td>\n",
       "      <td>45.1</td>\n",
       "      <td>19.6</td>\n",
       "      <td>19.378220</td>\n",
       "    </tr>\n",
       "    <tr>\n",
       "      <th>55</th>\n",
       "      <td>262.7</td>\n",
       "      <td>28.8</td>\n",
       "      <td>15.9</td>\n",
       "      <td>20.2</td>\n",
       "      <td>20.438381</td>\n",
       "    </tr>\n",
       "    <tr>\n",
       "      <th>147</th>\n",
       "      <td>240.1</td>\n",
       "      <td>7.3</td>\n",
       "      <td>8.7</td>\n",
       "      <td>13.2</td>\n",
       "      <td>15.276515</td>\n",
       "    </tr>\n",
       "    <tr>\n",
       "      <th>78</th>\n",
       "      <td>120.5</td>\n",
       "      <td>28.5</td>\n",
       "      <td>14.2</td>\n",
       "      <td>14.2</td>\n",
       "      <td>13.959273</td>\n",
       "    </tr>\n",
       "    <tr>\n",
       "      <th>152</th>\n",
       "      <td>121.0</td>\n",
       "      <td>8.4</td>\n",
       "      <td>48.7</td>\n",
       "      <td>11.6</td>\n",
       "      <td>10.069107</td>\n",
       "    </tr>\n",
       "    <tr>\n",
       "      <th>5</th>\n",
       "      <td>180.8</td>\n",
       "      <td>10.8</td>\n",
       "      <td>58.4</td>\n",
       "      <td>12.9</td>\n",
       "      <td>13.223509</td>\n",
       "    </tr>\n",
       "    <tr>\n",
       "      <th>64</th>\n",
       "      <td>102.7</td>\n",
       "      <td>29.6</td>\n",
       "      <td>8.4</td>\n",
       "      <td>14.0</td>\n",
       "      <td>13.373330</td>\n",
       "    </tr>\n",
       "    <tr>\n",
       "      <th>22</th>\n",
       "      <td>237.4</td>\n",
       "      <td>5.1</td>\n",
       "      <td>23.5</td>\n",
       "      <td>12.5</td>\n",
       "      <td>14.715247</td>\n",
       "    </tr>\n",
       "    <tr>\n",
       "      <th>131</th>\n",
       "      <td>0.7</td>\n",
       "      <td>39.6</td>\n",
       "      <td>8.7</td>\n",
       "      <td>1.6</td>\n",
       "      <td>10.695299</td>\n",
       "    </tr>\n",
       "    <tr>\n",
       "      <th>163</th>\n",
       "      <td>188.4</td>\n",
       "      <td>18.1</td>\n",
       "      <td>25.6</td>\n",
       "      <td>14.9</td>\n",
       "      <td>15.008159</td>\n",
       "    </tr>\n",
       "    <tr>\n",
       "      <th>109</th>\n",
       "      <td>13.1</td>\n",
       "      <td>0.4</td>\n",
       "      <td>25.6</td>\n",
       "      <td>5.3</td>\n",
       "      <td>3.675063</td>\n",
       "    </tr>\n",
       "    <tr>\n",
       "      <th>151</th>\n",
       "      <td>280.7</td>\n",
       "      <td>13.9</td>\n",
       "      <td>37.0</td>\n",
       "      <td>16.1</td>\n",
       "      <td>18.355400</td>\n",
       "    </tr>\n",
       "    <tr>\n",
       "      <th>123</th>\n",
       "      <td>224.0</td>\n",
       "      <td>2.4</td>\n",
       "      <td>15.6</td>\n",
       "      <td>11.6</td>\n",
       "      <td>13.596965</td>\n",
       "    </tr>\n",
       "    <tr>\n",
       "      <th>32</th>\n",
       "      <td>112.9</td>\n",
       "      <td>17.4</td>\n",
       "      <td>38.6</td>\n",
       "      <td>11.9</td>\n",
       "      <td>11.449860</td>\n",
       "    </tr>\n",
       "    <tr>\n",
       "      <th>57</th>\n",
       "      <td>7.3</td>\n",
       "      <td>28.1</td>\n",
       "      <td>41.4</td>\n",
       "      <td>5.5</td>\n",
       "      <td>8.741776</td>\n",
       "    </tr>\n",
       "    <tr>\n",
       "      <th>156</th>\n",
       "      <td>4.1</td>\n",
       "      <td>11.6</td>\n",
       "      <td>5.7</td>\n",
       "      <td>3.2</td>\n",
       "      <td>5.449465</td>\n",
       "    </tr>\n",
       "    <tr>\n",
       "      <th>193</th>\n",
       "      <td>17.2</td>\n",
       "      <td>4.1</td>\n",
       "      <td>31.6</td>\n",
       "      <td>5.9</td>\n",
       "      <td>4.568127</td>\n",
       "    </tr>\n",
       "    <tr>\n",
       "      <th>76</th>\n",
       "      <td>16.9</td>\n",
       "      <td>43.7</td>\n",
       "      <td>89.4</td>\n",
       "      <td>8.7</td>\n",
       "      <td>12.137184</td>\n",
       "    </tr>\n",
       "    <tr>\n",
       "      <th>196</th>\n",
       "      <td>38.2</td>\n",
       "      <td>3.7</td>\n",
       "      <td>13.8</td>\n",
       "      <td>7.6</td>\n",
       "      <td>5.457330</td>\n",
       "    </tr>\n",
       "    <tr>\n",
       "      <th>161</th>\n",
       "      <td>172.5</td>\n",
       "      <td>18.1</td>\n",
       "      <td>30.7</td>\n",
       "      <td>14.4</td>\n",
       "      <td>14.284870</td>\n",
       "    </tr>\n",
       "    <tr>\n",
       "      <th>67</th>\n",
       "      <td>31.5</td>\n",
       "      <td>24.6</td>\n",
       "      <td>2.2</td>\n",
       "      <td>9.5</td>\n",
       "      <td>9.198848</td>\n",
       "    </tr>\n",
       "  </tbody>\n",
       "</table>\n",
       "</div>"
      ],
      "text/plain": [
       "        TV  radio  newspaper  actual sales  predicted sales\n",
       "184  287.6   43.0       71.8          26.2        24.246822\n",
       "165  117.2   14.7        5.4          11.9        11.156422\n",
       "145   96.2   14.8       38.9          11.4        10.193596\n",
       "21   218.4   27.7       53.4          18.0        18.187592\n",
       "30    70.6   16.0       40.8          10.5         9.266916\n",
       "121  141.3   26.8       46.2          15.5        14.538687\n",
       "12   214.7   24.0        4.0          17.4        17.356106\n",
       "39    43.1   26.7       35.1          10.1        10.094996\n",
       "3     17.2   45.9       69.3           9.3        12.595362\n",
       "34   265.6   20.0        0.3          17.4        18.887108\n",
       "157   93.9   43.5       50.5          15.3        15.615553\n",
       "35    95.7    1.4        7.4           9.5         7.617153\n",
       "17    67.8   36.6      114.0          12.5        13.041688\n",
       "135   36.9   38.6       65.6          10.8        12.080400\n",
       "132  265.2    2.9       43.0          12.7        15.526899\n",
       "194  166.8   42.0        3.6          19.6        18.665927\n",
       "97   197.6    3.5        5.9          11.7        12.626485\n",
       "8    120.2   19.6       11.6          13.2        12.231134\n",
       "175  222.4    3.4       13.1          11.5        13.720146\n",
       "134  219.8   33.5       45.1          19.6        19.378220\n",
       "55   262.7   28.8       15.9          20.2        20.438381\n",
       "147  240.1    7.3        8.7          13.2        15.276515\n",
       "78   120.5   28.5       14.2          14.2        13.959273\n",
       "152  121.0    8.4       48.7          11.6        10.069107\n",
       "5    180.8   10.8       58.4          12.9        13.223509\n",
       "64   102.7   29.6        8.4          14.0        13.373330\n",
       "22   237.4    5.1       23.5          12.5        14.715247\n",
       "131    0.7   39.6        8.7           1.6        10.695299\n",
       "163  188.4   18.1       25.6          14.9        15.008159\n",
       "109   13.1    0.4       25.6           5.3         3.675063\n",
       "151  280.7   13.9       37.0          16.1        18.355400\n",
       "123  224.0    2.4       15.6          11.6        13.596965\n",
       "32   112.9   17.4       38.6          11.9        11.449860\n",
       "57     7.3   28.1       41.4           5.5         8.741776\n",
       "156    4.1   11.6        5.7           3.2         5.449465\n",
       "193   17.2    4.1       31.6           5.9         4.568127\n",
       "76    16.9   43.7       89.4           8.7        12.137184\n",
       "196   38.2    3.7       13.8           7.6         5.457330\n",
       "161  172.5   18.1       30.7          14.4        14.284870\n",
       "67    31.5   24.6        2.2           9.5         9.198848"
      ]
     },
     "execution_count": 48,
     "metadata": {},
     "output_type": "execute_result"
    }
   ],
   "source": [
    "new_df = pd.DataFrame()\n",
    "new_df = x_test\n",
    "new_df ['actual sales'] = y_test\n",
    "new_df ['predicted sales'] = y_pred\n",
    "new_df"
   ]
  },
  {
   "cell_type": "code",
   "execution_count": 49,
   "id": "e1cf03c8",
   "metadata": {},
   "outputs": [
    {
     "name": "stdout",
     "output_type": "stream",
     "text": [
      "R-sqaured: 79.765737614747\n",
      "RMSE: 2.140524494107763\n"
     ]
    }
   ],
   "source": [
    "from sklearn.metrics import r2_score,mean_squared_error\n",
    "import numpy as np\n",
    "\n",
    "r2=r2_score(y_test,y_pred)\n",
    "print(\"R-sqaured:\", r2*100)\n",
    "\n",
    "rmse=np.sqrt(mean_squared_error(y_test,y_pred))\n",
    "print(\"RMSE:\",rmse)"
   ]
  },
  {
   "cell_type": "code",
   "execution_count": 50,
   "id": "ac64b6dc",
   "metadata": {},
   "outputs": [],
   "source": [
    " new_df.to_csv(\"updated.csv\")"
   ]
  },
  {
   "cell_type": "code",
   "execution_count": null,
   "id": "b1489129",
   "metadata": {},
   "outputs": [],
   "source": []
  }
 ],
 "metadata": {
  "kernelspec": {
   "display_name": "Python 3 (ipykernel)",
   "language": "python",
   "name": "python3"
  },
  "language_info": {
   "codemirror_mode": {
    "name": "ipython",
    "version": 3
   },
   "file_extension": ".py",
   "mimetype": "text/x-python",
   "name": "python",
   "nbconvert_exporter": "python",
   "pygments_lexer": "ipython3",
   "version": "3.11.4"
  }
 },
 "nbformat": 4,
 "nbformat_minor": 5
}
